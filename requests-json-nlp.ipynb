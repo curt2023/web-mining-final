{
 "cells": [
  {
   "cell_type": "markdown",
   "metadata": {},
   "source": [
    "<h1 style= \"color:green; text-align:center\"> Web Mining and Applied NLP (44-620) </h1>\n",
    "\n",
    "<h3 style= \"color:orange\"> Requests, JSON, and NLP</h3>\n",
    "\n",
    "<p style= \"color: orange; font-size: 18px\"> Sudent Name: Curtis Rogers </p>\n",
    "\n",
    "Perform the tasks described in the Markdown cells below.  When you have completed the assignment make sure your code cells have all been run (and have output beneath them) and ensure you have committed and pushed ALL of your changes to your assignment repository.\n",
    "\n",
    "Make sure you have [installed spaCy and its pipeline](https://spacy.io/usage#quickstart) and [spaCyTextBlob](https://spacy.io/universe/project/spacy-textblob)\n",
    "\n",
    "Every question that requires you to write code will have a code cell underneath it; you may either write your entire solution in that cell or write it in a python file (`.py`), then import and run the appropriate code to answer the question.\n",
    "\n",
    "This assignment requires that you write additional files (either JSON or pickle files); make sure to submit those files in your repository as well."
   ]
  },
  {
   "cell_type": "code",
   "execution_count": 2,
   "metadata": {},
   "outputs": [
    {
     "name": "stdout",
     "output_type": "stream",
     "text": [
      "All prereqs installed.\n",
      "Package            Version\n",
      "------------------ -----------\n",
      "annotated-types    0.6.0\n",
      "asttokens          2.4.1\n",
      "blis               0.7.11\n",
      "catalogue          2.0.10\n",
      "certifi            2024.2.2\n",
      "charset-normalizer 3.3.2\n",
      "click              8.1.7\n",
      "cloudpathlib       0.16.0\n",
      "colorama           0.4.6\n",
      "comm               0.2.2\n",
      "confection         0.1.4\n",
      "contourpy          1.2.0\n",
      "cycler             0.12.1\n",
      "cymem              2.0.8\n",
      "debugpy            1.8.1\n",
      "decorator          5.1.1\n",
      "en-core-web-sm     3.7.1\n",
      "executing          2.0.1\n",
      "fonttools          4.50.0\n",
      "idna               3.6\n",
      "ipykernel          6.29.3\n",
      "ipython            8.22.2\n",
      "jedi               0.19.1\n",
      "Jinja2             3.1.3\n",
      "joblib             1.3.2\n",
      "jupyter_client     8.6.1\n",
      "jupyter_core       5.7.2\n",
      "kiwisolver         1.4.5\n",
      "langcodes          3.3.0\n",
      "MarkupSafe         2.1.5\n",
      "matplotlib         3.8.3\n",
      "matplotlib-inline  0.1.6\n",
      "mizani             0.11.0\n",
      "murmurhash         1.0.10\n",
      "nest-asyncio       1.6.0\n",
      "nltk               3.8.1\n",
      "numpy              1.26.4\n",
      "packaging          24.0\n",
      "pandas             2.2.1\n",
      "parso              0.8.3\n",
      "patsy              0.5.6\n",
      "pillow             10.2.0\n",
      "pip                24.0\n",
      "platformdirs       4.2.0\n",
      "plotly             5.20.0\n",
      "plotnine           0.13.2\n",
      "preshed            3.0.9\n",
      "prompt-toolkit     3.0.43\n",
      "psutil             5.9.8\n",
      "pure-eval          0.2.2\n",
      "pydantic           2.6.4\n",
      "pydantic_core      2.16.3\n",
      "Pygments           2.17.2\n",
      "pyparsing          3.1.2\n",
      "python-dateutil    2.9.0.post0\n",
      "pytz               2024.1\n",
      "pywin32            306\n",
      "pyzmq              25.1.2\n",
      "regex              2023.12.25\n",
      "requests           2.31.0\n",
      "scipy              1.12.0\n",
      "seaborn            0.13.2\n",
      "setuptools         65.5.0\n",
      "six                1.16.0\n",
      "smart-open         6.4.0\n",
      "spacy              3.7.4\n",
      "spacy-legacy       3.0.12\n",
      "spacy-loggers      1.0.5\n",
      "spacytextblob      4.0.0\n",
      "srsly              2.4.8\n",
      "stack-data         0.6.3\n",
      "statsmodels        0.14.1\n",
      "tenacity           8.2.3\n",
      "textblob           0.15.3\n",
      "thinc              8.2.3\n",
      "tornado            6.4\n",
      "tqdm               4.66.2\n",
      "traitlets          5.14.2\n",
      "typer              0.9.0\n",
      "typing_extensions  4.10.0\n",
      "tzdata             2024.1\n",
      "urllib3            2.2.1\n",
      "wasabi             1.1.2\n",
      "wcwidth            0.2.13\n",
      "weasel             0.3.4\n"
     ]
    }
   ],
   "source": [
    "# Create and activate a Python virtual environment. \n",
    "# Before starting the project, try all these imports FIRST\n",
    "# Address any errors you get running this code cell \n",
    "# by installing the necessary packages into your active Python environment.\n",
    "# Try to resolve issues using your materials and the web.\n",
    "# If that doesn't work, ask for help in the discussion forums.\n",
    "# You can't complete the exercises until you import these - start early! \n",
    "# We also import json and pickle (included in the Python Standard Library).\n",
    "\n",
    "import json\n",
    "import pickle\n",
    "\n",
    "import requests\n",
    "import spacy\n",
    "from spacytextblob.spacytextblob import SpacyTextBlob\n",
    "\n",
    "print('All prereqs installed.')\n",
    "!pip list"
   ]
  },
  {
   "cell_type": "markdown",
   "metadata": {},
   "source": [
    "1. The following code accesses the [lyrics.ovh](https://lyricsovh.docs.apiary.io/#reference/0/lyrics-of-a-song/search) public api, searches for the lyrics of a song, and stores it in a dictionary object.  Write the resulting json to a file (either a JSON file or a pickle file; you choose). You will read in the contents of this file for future questions so we do not need to frequently access the API."
   ]
  },
  {
   "cell_type": "code",
   "execution_count": 3,
   "metadata": {},
   "outputs": [
    {
     "name": "stdout",
     "output_type": "stream",
     "text": [
      "My books I'd fain cast off, I cannot read,\n",
      "'Twixt every page my thoughts go stray at large\n",
      "Down in the meadow, where is richer feed,\n",
      "And will not mind to hit their proper targe.\n",
      "Plutarch was good, and so was Homer too,\n",
      "Our Shakespeare's life were rich to live again,\n",
      "What Plutarch read, that was not good nor true,\n",
      "Nor Shakespeare's books, unless his books were men.\n",
      "\n",
      "Here while I lie beneath this walnut bough,\n",
      "What care I for the Greeks or for Troy town,\n",
      "If juster battles are enacted now\n",
      "Between the ants upon this hummock's crown?\n",
      "\n",
      "Bid Homer wait till I the issue learn,\n",
      "If red or black the gods will favor most,\n",
      "Or yonder Ajax will the phalanx turn,\n",
      "Struggling to heave some rock against the host.\n",
      "\n",
      "Tell Shakespeare to attend some leisure hour,\n",
      "For now I've business with this drop of dew,\n",
      "And see you not, the clouds prepare a shower--\n",
      "I'll meet him shortly when the sky is blue.\n",
      "\n",
      "This bed of herd's grass and wild oats was spread\n",
      "Last year with nicer skill than monarchs use.\n",
      "A clover tuft is pillow for my head,\n",
      "And violets quite overtop my shoes.\n",
      "\n",
      "And now the cordial clouds have shut all in,\n",
      "And gently swells the wind to say all's well;\n",
      "The scattered drops are falling fast and thin,\n",
      "Some in the pool, some in the flower-bell.\n",
      "\n",
      "I am well drenched upon my bed of oats;\n",
      "But see that globe come rolling down its stem,\n",
      "Now like a lonely planet there it floats,\n",
      "And now it sinks into my garment's hem.\n",
      "\n",
      "Drip drip the trees for all the country round,\n",
      "And richness rare distills from every bough;\n",
      "The wind alone it is makes every sound,\n",
      "Shaking down crystals on the leaves below.\n",
      "\n",
      "For shame the sun will never show himself,\n",
      "Who could not with his beams e'er melt me so;\n",
      "My dripping locks--they would become an elf,\n",
      "Who in a beaded coat does gayly go.\n"
     ]
    }
   ],
   "source": [
    "import requests\n",
    "import json\n",
    "\n",
    "AUTHOR='Henry David Thoreau'\n",
    "POEM = 'The Summer Rain'\n",
    "\n",
    "URL = f'https://poetrydb.org/author,title/{AUTHOR};{POEM}'\n",
    "result = json.loads(requests.get(URL).text)\n",
    "poem = '\\n'.join(result[0]['lines']) \n",
    "\n",
    "print(poem)\n"
   ]
  },
  {
   "cell_type": "markdown",
   "metadata": {},
   "source": [
    "2. Read in the contents of your file.  Print the lyrics of the song (not the entire dictionary!) and use spaCyTextBlob to perform sentiment analysis on the lyrics.  Print the polarity score of the sentiment analysis.  Given that the range of the polarity score is `[-1.0,1.0]` which corresponds to how positive or negative the text in question is, do you think the lyrics have a more positive or negative connotaion?  Answer this question in a comment in your code cell."
   ]
  },
  {
   "cell_type": "code",
   "execution_count": 4,
   "metadata": {},
   "outputs": [
    {
     "name": "stdout",
     "output_type": "stream",
     "text": [
      "My books I'd fain cast off, I cannot read,\n",
      "'Twixt every page my thoughts go stray at large\n",
      "Down in the meadow, where is richer feed,\n",
      "And will not mind to hit their proper targe.\n",
      "Plutarch was good, and so was Homer too,\n",
      "Our Shakespeare's life were rich to live again,\n",
      "What Plutarch read, that was not good nor true,\n",
      "Nor Shakespeare's books, unless his books were men.\n",
      "\n",
      "Here while I lie beneath this walnut bough,\n",
      "What care I for the Greeks or for Troy town,\n",
      "If juster battles are enacted now\n",
      "Between the ants upon this hummock's crown?\n",
      "\n",
      "Bid Homer wait till I the issue learn,\n",
      "If red or black the gods will favor most,\n",
      "Or yonder Ajax will the phalanx turn,\n",
      "Struggling to heave some rock against the host.\n",
      "\n",
      "Tell Shakespeare to attend some leisure hour,\n",
      "For now I've business with this drop of dew,\n",
      "And see you not, the clouds prepare a shower--\n",
      "I'll meet him shortly when the sky is blue.\n",
      "\n",
      "This bed of herd's grass and wild oats was spread\n",
      "Last year with nicer skill than monarchs use.\n",
      "A clover tuft is pillow for my head,\n",
      "And violets quite overtop my shoes.\n",
      "\n",
      "And now the cordial clouds have shut all in,\n",
      "And gently swells the wind to say all's well;\n",
      "The scattered drops are falling fast and thin,\n",
      "Some in the pool, some in the flower-bell.\n",
      "\n",
      "I am well drenched upon my bed of oats;\n",
      "But see that globe come rolling down its stem,\n",
      "Now like a lonely planet there it floats,\n",
      "And now it sinks into my garment's hem.\n",
      "\n",
      "Drip drip the trees for all the country round,\n",
      "And richness rare distills from every bough;\n",
      "The wind alone it is makes every sound,\n",
      "Shaking down crystals on the leaves below.\n",
      "\n",
      "For shame the sun will never show himself,\n",
      "Who could not with his beams e'er melt me so;\n",
      "My dripping locks--they would become an elf,\n",
      "Who in a beaded coat does gayly go.\n",
      "\n",
      "*****************************************************************\n",
      "the polarity score is 0.0676926406926407, Since this score is 0.0676926406926407 I would say that the poem has a neutral connotation\n"
     ]
    }
   ],
   "source": [
    "#I did the imports at the beginning\n",
    "\n",
    "#Loads English Tokenizer\n",
    "nlp = spacy.load('en_core_web_sm')\n",
    "nlp.add_pipe('spacytextblob')\n",
    "\n",
    "#Document\n",
    "doc = nlp(poem)\n",
    "\n",
    "#Sentiment analysis\n",
    "\n",
    "polarity_score = doc._.polarity\n",
    "\n",
    "print(doc)\n",
    "print()\n",
    "print('*****************************************************************')\n",
    "print(f'the polarity score is {polarity_score}, Since this score is {polarity_score} I would say that the poem has a neutral connotation')\n",
    "\n"
   ]
  },
  {
   "cell_type": "markdown",
   "metadata": {},
   "source": [
    "<h2 style= color:green> Question 2 cont.</h2>\n",
    "\n",
    "<p> The polarity score for this poem was very close to neutral, falling just slightly on the positive side. I feel that this is an accurate representation for this poem. </p>"
   ]
  },
  {
   "cell_type": "markdown",
   "metadata": {},
   "source": [
    "3. Write a function that takes an artist, song, and filename, accesses the lyrics.ovh api to get the song lyrics, and writes the results to the specified filename.  Test this function by getting the lyrics to any four songs of your choice and storing them in different files."
   ]
  },
  {
   "cell_type": "code",
   "execution_count": 11,
   "metadata": {},
   "outputs": [
    {
     "name": "stdout",
     "output_type": "stream",
     "text": [
      "Saved file Shakespear_Spring\n",
      "Saved file Emerson_OdeToBeauty\n",
      "Saved file Poe_TheSleeper\n",
      "Saved file Poe_TheCityInTheSea\n"
     ]
    }
   ],
   "source": [
    " #this will get the poem if given the author and title. Then save it to a certain filename\n",
    "def fetch_poem(author,title,filename):\n",
    "    URL = f'https://poetrydb.org/author,title/{author};{title}'\n",
    "    data = json.loads(requests.get(URL).text)\n",
    "    with open(filename, 'w') as file:\n",
    "        json.dump(data, file)\n",
    "    print(f'Saved file {filename}')\n",
    "\n",
    "\n",
    "\n",
    "#fetch poem\n",
    "\n",
    "fetch_poem('William Shakespear', 'Spring', 'Shakespear_Spring')\n",
    "fetch_poem('Ralph Waldo Emerson', 'Ode to Beauty', 'Emerson_OdeToBeauty')\n",
    "fetch_poem('Edgar Allan Poe', 'The Sleeper', 'Poe_TheSleeper')\n",
    "fetch_poem('Edgar Allan Poe', 'The City in The Sea', 'Poe_TheCityInTheSea')\n"
   ]
  },
  {
   "cell_type": "markdown",
   "metadata": {},
   "source": [
    "4. Write a function that takes the name of a file that contains song lyrics, loads the file, performs sentiment analysis, and returns the polarity score.  Use this function to print the polarity scores (with the name of the song) of the three files you created in question 3.  Does the reported polarity match your understanding of the song's lyrics? Why or why not do you think that might be?  Answer the questions in either a comment in the code cell or a markdown cell under the code cell."
   ]
  },
  {
   "cell_type": "code",
   "execution_count": 14,
   "metadata": {},
   "outputs": [
    {
     "name": "stdout",
     "output_type": "stream",
     "text": [
      "\n",
      "*****************************************************************\n",
      "the polarity score forEmerson_OdeToBeauty is 0.1265627705627706\n",
      "\n",
      "*****************************************************************\n",
      "the polarity score forPoe_TheCityInTheSea is -0.01367337164750958\n",
      "\n",
      "*****************************************************************\n",
      "the polarity score forPoe_TheSleeper is 0.13499007936507934\n",
      "\n",
      "*****************************************************************\n",
      "the polarity score forShakespear_Spring is -0.14423076923076925\n"
     ]
    }
   ],
   "source": [
    "def poem_sentiment (filename):\n",
    "    with open(filename, 'r') as file:\n",
    "        data = json.load(file)\n",
    "        poem = '\\n'.join(data[0]['lines'])\n",
    "    #Loads English Tokenizer\n",
    "    nlp = spacy.load('en_core_web_sm')\n",
    "    nlp.add_pipe('spacytextblob')\n",
    "\n",
    "    #Document\n",
    "    doc = nlp(poem)\n",
    "\n",
    "    #Sentiment analysis\n",
    "    polarity_score = doc._.polarity\n",
    "\n",
    "    print()\n",
    "    print('*****************************************************************')\n",
    "    print(f'the polarity score for{filename} is {polarity_score}')\n",
    "\n",
    "#new poem sentiment analysis\n",
    "\n",
    "poem_sentiment('Emerson_OdeToBeauty')\n",
    "poem_sentiment('Poe_TheCityInTheSea')\n",
    "poem_sentiment('Poe_TheSleeper')\n",
    "poem_sentiment('Shakespear_Spring')\n",
    "    "
   ]
  },
  {
   "cell_type": "markdown",
   "metadata": {},
   "source": [
    "<h2 style= color:green> Question 4 cont.</h2>\n",
    "\n",
    "|Title|Author|Polarity|\n",
    "|-----|------|--------|\n",
    "|\"Ode To Beauty\"|Emerson|0.1266|\n",
    "|\"The City in The Sea\"|Poe|-0.0137|\n",
    "|\"The Sleeper\"|Poe|0.1351|\n",
    "|\"Spring\"|Shakespear|-0.1442|\n",
    "\n",
    "<p>Most of the polarity scores for the poems that I chose where fairly neutral. The results had 2 poems leaning slightly negative and 2 leaning slightly positive. For the most part I agree with all of the results except Shakespears poem \"Spring\". In my opinion this poem should be on the slightly positive side. I think that this sentiment was incorrect for this poem because it contained the words \"fear\" and \"unpleasing\". These words are normally interpreted with a negative sentiment, and might be what lead to the slight negative polarity result with this poem.\n",
    "\n",
    "Other than that I think that the other were pretty accurate. I am no poetry expert. So there could be some error with my interpretation aswell. </p>"
   ]
  },
  {
   "cell_type": "code",
   "execution_count": 15,
   "metadata": {},
   "outputs": [
    {
     "name": "stderr",
     "output_type": "stream",
     "text": [
      "[NbConvertApp] Converting notebook requests-json-nlp.ipynb to html\n",
      "[NbConvertApp] Writing 297631 bytes to requests-json-nlp.html\n"
     ]
    }
   ],
   "source": [
    "!jupyter nbconvert --to html requests-json-nlp.ipynb"
   ]
  }
 ],
 "metadata": {
  "kernelspec": {
   "display_name": "Python 3",
   "language": "python",
   "name": "python3"
  },
  "language_info": {
   "codemirror_mode": {
    "name": "ipython",
    "version": 3
   },
   "file_extension": ".py",
   "mimetype": "text/x-python",
   "name": "python",
   "nbconvert_exporter": "python",
   "pygments_lexer": "ipython3",
   "version": "3.11.4"
  }
 },
 "nbformat": 4,
 "nbformat_minor": 4
}
