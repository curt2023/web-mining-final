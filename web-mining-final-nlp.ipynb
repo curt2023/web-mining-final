{
 "cells": [
  {
   "cell_type": "markdown",
   "metadata": {},
   "source": [
    "<h1 style= \"color:green; text-align:center\"> Web Mining and Applied NLP (44-620) </h1>\n",
    "\n",
    "<h3 style= \"color:orange\"> Web Mining Final Project</h3>\n",
    "\n",
    "<p style= \"color: orange; font-size: 18px\"> Sudent Name: Curtis Rogers </p>\n",
    "\n"
   ]
  },
  {
   "cell_type": "markdown",
   "metadata": {},
   "source": [
    "Load Packages"
   ]
  },
  {
   "cell_type": "code",
   "execution_count": 1,
   "metadata": {},
   "outputs": [],
   "source": [
    "from collections import Counter\n",
    "import pickle\n",
    "import requests\n",
    "import spacy\n",
    "from bs4 import BeautifulSoup\n",
    "import matplotlib.pyplot as plt"
   ]
  },
  {
   "cell_type": "markdown",
   "metadata": {},
   "source": [
    "Writing in 3 articles that are evaluating Jeep Wagoneer."
   ]
  },
  {
   "cell_type": "code",
   "execution_count": 5,
   "metadata": {},
   "outputs": [],
   "source": [
    "url1= \"https://www.caranddriver.com/jeep/wagoneer\"\n",
    "url2= \"https://www.consumerreports.org/cars/jeep/wagoneer/\"\n",
    "url3= \"https://www.kbb.com/jeep/wagoneer/\"\n",
    "\n",
    "#Article 1\n",
    "r1=requests.get(url1)\n",
    "html1=r1.text\n",
    "\n",
    "htmlParser1= BeautifulSoup(html1,\"html.parser\")\n",
    "article_text1= str(htmlParser1.find(\"article\"))\n",
    "\n",
    "with open(\"article1.pkl\",\"wb\") as file:\n",
    "    pickle.dump(article_text1,file)\n",
    "\n",
    "#Article 2\n",
    "r2=requests.get(url2)\n",
    "html2=r2.text\n",
    "\n",
    "htmlParser2= BeautifulSoup(html2,\"html.parser\")\n",
    "article_text2= str(htmlParser2.find(\"article\"))\n",
    "\n",
    "\n",
    "with open(\"article2.pkl\",\"wb\") as file:\n",
    "    pickle.dump(article_text2,file)\n",
    "\n",
    "#Article 3\n",
    "r3=requests.get(url3)\n",
    "html3=r3.text\n",
    "\n",
    "htmlParser3= BeautifulSoup(html3,\"html.parser\")\n",
    "article_text3= str(htmlParser3.find(\"article\"))\n",
    "\n",
    "\n",
    "with open(\"article3.pkl\",\"wb\") as file:\n",
    "    pickle.dump(article_text3,file)\n",
    "\n"
   ]
  }
 ],
 "metadata": {
  "kernelspec": {
   "display_name": "Python 3",
   "language": "python",
   "name": "python3"
  },
  "language_info": {
   "codemirror_mode": {
    "name": "ipython",
    "version": 3
   },
   "file_extension": ".py",
   "mimetype": "text/x-python",
   "name": "python",
   "nbconvert_exporter": "python",
   "pygments_lexer": "ipython3",
   "version": "3.11.4"
  }
 },
 "nbformat": 4,
 "nbformat_minor": 4
}
