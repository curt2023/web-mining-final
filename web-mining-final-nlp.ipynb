{
 "cells": [
  {
   "cell_type": "markdown",
   "metadata": {},
   "source": [
    "<h1 style= \"color:green; text-align:center\"> Web Mining and Applied NLP (44-620) </h1>\n",
    "\n",
    "<h3 style= \"color:orange\"> Web Mining Final Project</h3>\n",
    "\n",
    "<p style= \"color: orange; font-size: 18px\"> Sudent Name: Curtis Rogers </p>\n",
    "\n"
   ]
  },
  {
   "cell_type": "code",
   "execution_count": 19,
   "metadata": {},
   "outputs": [],
   "source": [
    "import json\n",
    "import pickle\n",
    "\n",
    "import requests\n",
    "import spacy\n",
    "from spacytextblob.spacytextblob import SpacyTextBlob"
   ]
  },
  {
   "cell_type": "code",
   "execution_count": 34,
   "metadata": {},
   "outputs": [
    {
     "name": "stdout",
     "output_type": "stream",
     "text": [
      "Saved file Reload_Song_1\n",
      "Saved file Reload_Song_2\n",
      "Saved file Reload_Song_3\n",
      "Saved file Reload_Song_4\n",
      "Saved file Reload_Song_5\n",
      "Saved file Reload_Song_6\n",
      "Saved file Reload_Song_7\n",
      "Saved file Reload_Song_8\n",
      "Saved file Reload_Song_9\n",
      "Saved file Reload_Song_10\n",
      "Saved file Reload_Song_11\n"
     ]
    }
   ],
   "source": [
    "def fetch_song(artist,title,filename):\n",
    "    URL = f'https://api.lyrics.ovh/v1/{artist}/{title}'\n",
    "    data = json.loads(requests.get(URL).text)\n",
    "    with open(filename, 'w') as file:\n",
    "        json.dump(data, file, indent=5)\n",
    "    print(f'Saved file {filename}')\n",
    "\n",
    "\n",
    "\n",
    "#fetch songs\n",
    "\n",
    "fetch_song('Metallica', 'Fuel', 'Reload_Song_1')\n",
    "fetch_song('Metallica', 'Better Than You', 'Reload_Song_2')\n",
    "fetch_song('Metallica', 'Carpe Diem Baby', 'Reload_Song_3')\n",
    "fetch_song('Metallica', 'Where The Wild Things Are', 'Reload_Song_4')\n",
    "fetch_song('Metallica', 'Fixxxer', 'Reload_Song_5')\n",
    "fetch_song('Metallica', 'The Memory Remains', 'Reload_Song_6')\n",
    "fetch_song('Metallica', 'The Unforgiven II', 'Reload_Song_7')\n",
    "fetch_song('Metallica', 'Slither', 'Reload_Song_8')\n",
    "fetch_song('Metallica', 'Bad Seed', 'Reload_Song_9')\n",
    "fetch_song('Metallica', 'Prince Charming', 'Reload_Song_10')\n",
    "fetch_song('Metallica', 'Attitude', 'Reload_Song_11')"
   ]
  },
  {
   "cell_type": "code",
   "execution_count": 35,
   "metadata": {},
   "outputs": [
    {
     "name": "stdout",
     "output_type": "stream",
     "text": [
      "\n",
      "*****************************************************************\n",
      "the polarity score forReload_Song_1 is 0.007081220061989302\n",
      "\n",
      "*****************************************************************\n",
      "the polarity score forReload_Song_2 is 0.3982456140350877\n",
      "\n",
      "*****************************************************************\n",
      "the polarity score forReload_Song_3 is 0.3517482517482517\n",
      "\n",
      "*****************************************************************\n",
      "the polarity score forReload_Song_4 is 0.13423202614379082\n",
      "\n",
      "*****************************************************************\n",
      "the polarity score forReload_Song_5 is 0.045535714285714284\n",
      "\n",
      "*****************************************************************\n",
      "the polarity score forReload_Song_6 is -0.40271739130434786\n",
      "\n",
      "*****************************************************************\n",
      "the polarity score forReload_Song_7 is -0.20343915343915348\n",
      "\n",
      "*****************************************************************\n",
      "the polarity score forReload_Song_8 is -0.2884126984126984\n",
      "\n",
      "*****************************************************************\n",
      "the polarity score forReload_Song_9 is -0.3839826839826839\n",
      "\n",
      "*****************************************************************\n",
      "the polarity score forReload_Song_10 is 0.040977443609022564\n",
      "\n",
      "*****************************************************************\n",
      "the polarity score forReload_Song_11 is -0.017361111111111112\n"
     ]
    }
   ],
   "source": [
    "def song_sentiment(filename):\n",
    "    with open(filename, 'r') as file:\n",
    "        data = json.load(file)\n",
    "        song = data['lyrics']\n",
    "    #Loads English Tokenizer\n",
    "    nlp = spacy.load('en_core_web_sm')\n",
    "    nlp.add_pipe('spacytextblob')\n",
    "\n",
    "    #Document\n",
    "    doc = nlp(song)\n",
    "\n",
    "    #Sentiment analysis\n",
    "    polarity_score = doc._.polarity\n",
    "\n",
    "    print()\n",
    "    print('*****************************************************************')\n",
    "    print(f'the polarity score for {filename} is {polarity_score}')\n",
    "\n",
    "#Song sentiment analysis\n",
    "\n",
    "song_sentiment('Reload_Song_1')\n",
    "song_sentiment('Reload_Song_2')\n",
    "song_sentiment('Reload_Song_3')\n",
    "song_sentiment('Reload_Song_4')\n",
    "song_sentiment('Reload_Song_5')\n",
    "song_sentiment('Reload_Song_6')\n",
    "song_sentiment('Reload_Song_7')\n",
    "song_sentiment('Reload_Song_8')\n",
    "song_sentiment('Reload_Song_9')\n",
    "song_sentiment('Reload_Song_10')\n",
    "song_sentiment('Reload_Song_11')\n"
   ]
  },
  {
   "cell_type": "code",
   "execution_count": null,
   "metadata": {},
   "outputs": [],
   "source": []
  }
 ],
 "metadata": {
  "kernelspec": {
   "display_name": "Python 3",
   "language": "python",
   "name": "python3"
  },
  "language_info": {
   "codemirror_mode": {
    "name": "ipython",
    "version": 3
   },
   "file_extension": ".py",
   "mimetype": "text/x-python",
   "name": "python",
   "nbconvert_exporter": "python",
   "pygments_lexer": "ipython3",
   "version": "3.11.4"
  }
 },
 "nbformat": 4,
 "nbformat_minor": 4
}
