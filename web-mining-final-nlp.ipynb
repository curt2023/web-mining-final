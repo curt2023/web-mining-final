{
 "cells": [
  {
   "cell_type": "markdown",
   "metadata": {},
   "source": [
    "<h1 style= \"color:green; text-align:center\"> Web Mining and Applied NLP (44-620) </h1>\n",
    "\n",
    "<h3 style= \"color:orange\"> Web Mining Final Project</h3>\n",
    "\n",
    "<p style= \"color: orange; font-size: 18px\"> Sudent Name: Curtis Rogers </p>\n",
    "\n"
   ]
  },
  {
   "cell_type": "code",
   "execution_count": 19,
   "metadata": {},
   "outputs": [],
   "source": [
    "import json\n",
    "import pickle\n",
    "\n",
    "import requests\n",
    "import spacy\n",
    "from spacytextblob.spacytextblob import SpacyTextBlob"
   ]
  },
  {
   "cell_type": "code",
   "execution_count": 22,
   "metadata": {},
   "outputs": [
    {
     "name": "stdout",
     "output_type": "stream",
     "text": [
      "Saved file Reload_Song_1\n",
      "Saved file Reload_Song_2\n",
      "Saved file Reload_Song_3\n",
      "Saved file Reload_Song_4\n",
      "Saved file Reload_Song_5\n",
      "Saved file Reload_Song_6\n",
      "Saved file Reload_Song_7\n",
      "Saved file Reload_Song_8\n",
      "Saved file Reload_Song_9\n",
      "Saved file Reload_Song_10\n",
      "Saved file Reload_Song_11\n"
     ]
    }
   ],
   "source": [
    "def fetch_song(artist,title,filename):\n",
    "    URL = f'https://api.lyrics.ovh/v1/{artist}/{title}'\n",
    "    data = json.loads(requests.get(URL).text)\n",
    "    with open(filename, 'w') as file:\n",
    "        json.dump(data, file)\n",
    "    print(f'Saved file {filename}')\n",
    "\n",
    "\n",
    "\n",
    "#fetch poem\n",
    "\n",
    "fetch_song('Metallica', 'Fuel', 'Reload_Song_1')\n",
    "fetch_song('Metallica', 'Better Than You', 'Reload_Song_2')\n",
    "fetch_song('Metallica', 'Carpe Diem Baby', 'Reload_Song_3')\n",
    "fetch_song('Metallica', 'Where The Wild Things Are', 'Reload_Song_4')\n",
    "fetch_song('Metallica', 'Fixxxer', 'Reload_Song_5')\n",
    "fetch_song('Metallica', 'The Memory Remains', 'Reload_Song_6')\n",
    "fetch_song('Metallica', 'The Unforgiven II', 'Reload_Song_7')\n",
    "fetch_song('Metallica', 'Slither', 'Reload_Song_8')\n",
    "fetch_song('Metallica', 'Bad Seed', 'Reload_Song_9')\n",
    "fetch_song('Metallica', 'Prince Charming', 'Reload_Song_10')\n",
    "fetch_song('Metallica', 'Attitude', 'Reload_Song_11')"
   ]
  }
 ],
 "metadata": {
  "kernelspec": {
   "display_name": "Python 3",
   "language": "python",
   "name": "python3"
  },
  "language_info": {
   "codemirror_mode": {
    "name": "ipython",
    "version": 3
   },
   "file_extension": ".py",
   "mimetype": "text/x-python",
   "name": "python",
   "nbconvert_exporter": "python",
   "pygments_lexer": "ipython3",
   "version": "3.11.4"
  }
 },
 "nbformat": 4,
 "nbformat_minor": 4
}
