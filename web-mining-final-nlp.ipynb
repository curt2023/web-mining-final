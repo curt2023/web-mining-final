{
 "cells": [
  {
   "cell_type": "markdown",
   "metadata": {},
   "source": [
    "<h1 style= \"color:green; text-align:center\"> Web Mining and Applied NLP (44-620) </h1>\n",
    "\n",
    "<h3 style= \"color:orange\"> Web Mining Final Project</h3>\n",
    "\n",
    "<p style= \"color: orange; font-size: 18px\"> Sudent Name: Curtis Rogers </p>\n",
    "\n"
   ]
  }
 ],
 "metadata": {
  "kernelspec": {
   "display_name": "Python 3",
   "language": "python",
   "name": "python3"
  },
  "language_info": {
   "codemirror_mode": {
    "name": "ipython",
    "version": 3
   },
   "file_extension": ".py",
   "mimetype": "text/x-python",
   "name": "python",
   "nbconvert_exporter": "python",
   "pygments_lexer": "ipython3",
   "version": "3.11.4"
  }
 },
 "nbformat": 4,
 "nbformat_minor": 4
}
